{
 "cells": [
  {
   "cell_type": "markdown",
   "id": "8b96d431",
   "metadata": {},
   "source": [
    "# ReadMe\n",
    "1. Data Preparation\n",
    "- Import 'master_data.csv' which has been prepared in 'COMP4135_Data_Preparation.ipynb'\n",
    "\n",
    "2. Multiple Regression\n",
    "- Use four independent variables at once to predict a dependent variable <br>\n",
    "\n",
    "3. Independent Variable\n",
    "- Average Watching Count \n",
    "- Video Completion Percentage \n",
    "- Enrolled Course Count \n",
    "- Average Enroll Time\n",
    "\n",
    "4. Dependent Variable\n",
    "- Grade"
   ]
  },
  {
   "cell_type": "markdown",
   "id": "c34ef9a1",
   "metadata": {},
   "source": [
    "## Multiple Regression "
   ]
  },
  {
   "cell_type": "code",
   "execution_count": 21,
   "id": "1fd5775d",
   "metadata": {
    "ExecuteTime": {
     "end_time": "2022-12-05T01:27:03.206217Z",
     "start_time": "2022-12-05T01:27:03.176318Z"
    }
   },
   "outputs": [],
   "source": [
    "import numpy as np \n",
    "import pandas as pd\n",
    "import matplotlib.pyplot as plt"
   ]
  },
  {
   "cell_type": "code",
   "execution_count": 22,
   "id": "5079d538",
   "metadata": {
    "ExecuteTime": {
     "end_time": "2022-12-05T01:27:03.777639Z",
     "start_time": "2022-12-05T01:27:03.474288Z"
    }
   },
   "outputs": [
    {
     "data": {
      "text/html": [
       "<div>\n",
       "<style scoped>\n",
       "    .dataframe tbody tr th:only-of-type {\n",
       "        vertical-align: middle;\n",
       "    }\n",
       "\n",
       "    .dataframe tbody tr th {\n",
       "        vertical-align: top;\n",
       "    }\n",
       "\n",
       "    .dataframe thead th {\n",
       "        text-align: right;\n",
       "    }\n",
       "</style>\n",
       "<table border=\"1\" class=\"dataframe\">\n",
       "  <thead>\n",
       "    <tr style=\"text-align: right;\">\n",
       "      <th></th>\n",
       "      <th>user_id</th>\n",
       "      <th>avg_watching_count</th>\n",
       "      <th>avg_completion_percentage</th>\n",
       "      <th>courses_count</th>\n",
       "      <th>avg_enroll_time</th>\n",
       "      <th>grade</th>\n",
       "    </tr>\n",
       "  </thead>\n",
       "  <tbody>\n",
       "    <tr>\n",
       "      <th>0</th>\n",
       "      <td>U_8126464</td>\n",
       "      <td>10.759358</td>\n",
       "      <td>1.174700</td>\n",
       "      <td>5</td>\n",
       "      <td>21</td>\n",
       "      <td>76.27</td>\n",
       "    </tr>\n",
       "    <tr>\n",
       "      <th>1</th>\n",
       "      <td>U_8650752</td>\n",
       "      <td>4.723404</td>\n",
       "      <td>0.574468</td>\n",
       "      <td>5</td>\n",
       "      <td>9</td>\n",
       "      <td>61.35</td>\n",
       "    </tr>\n",
       "    <tr>\n",
       "      <th>2</th>\n",
       "      <td>U_131074</td>\n",
       "      <td>2.555556</td>\n",
       "      <td>0.000000</td>\n",
       "      <td>6</td>\n",
       "      <td>17</td>\n",
       "      <td>69.09</td>\n",
       "    </tr>\n",
       "    <tr>\n",
       "      <th>3</th>\n",
       "      <td>U_262145</td>\n",
       "      <td>2.000000</td>\n",
       "      <td>0.581395</td>\n",
       "      <td>4</td>\n",
       "      <td>15</td>\n",
       "      <td>67.20</td>\n",
       "    </tr>\n",
       "    <tr>\n",
       "      <th>4</th>\n",
       "      <td>U_1441801</td>\n",
       "      <td>3.470588</td>\n",
       "      <td>0.000000</td>\n",
       "      <td>5</td>\n",
       "      <td>16</td>\n",
       "      <td>68.02</td>\n",
       "    </tr>\n",
       "    <tr>\n",
       "      <th>...</th>\n",
       "      <td>...</td>\n",
       "      <td>...</td>\n",
       "      <td>...</td>\n",
       "      <td>...</td>\n",
       "      <td>...</td>\n",
       "      <td>...</td>\n",
       "    </tr>\n",
       "    <tr>\n",
       "      <th>48635</th>\n",
       "      <td>U_2621421</td>\n",
       "      <td>6.419355</td>\n",
       "      <td>0.274194</td>\n",
       "      <td>8</td>\n",
       "      <td>7</td>\n",
       "      <td>59.61</td>\n",
       "    </tr>\n",
       "    <tr>\n",
       "      <th>48636</th>\n",
       "      <td>U_6684659</td>\n",
       "      <td>6.000000</td>\n",
       "      <td>0.818182</td>\n",
       "      <td>4</td>\n",
       "      <td>18</td>\n",
       "      <td>71.51</td>\n",
       "    </tr>\n",
       "    <tr>\n",
       "      <th>48637</th>\n",
       "      <td>U_8126455</td>\n",
       "      <td>1.358025</td>\n",
       "      <td>0.777778</td>\n",
       "      <td>9</td>\n",
       "      <td>11</td>\n",
       "      <td>63.77</td>\n",
       "    </tr>\n",
       "    <tr>\n",
       "      <th>48638</th>\n",
       "      <td>U_7995385</td>\n",
       "      <td>4.500000</td>\n",
       "      <td>0.157895</td>\n",
       "      <td>4</td>\n",
       "      <td>22</td>\n",
       "      <td>74.77</td>\n",
       "    </tr>\n",
       "    <tr>\n",
       "      <th>48639</th>\n",
       "      <td>U_6553596</td>\n",
       "      <td>5.800000</td>\n",
       "      <td>0.616667</td>\n",
       "      <td>4</td>\n",
       "      <td>15</td>\n",
       "      <td>67.97</td>\n",
       "    </tr>\n",
       "  </tbody>\n",
       "</table>\n",
       "<p>48640 rows × 6 columns</p>\n",
       "</div>"
      ],
      "text/plain": [
       "         user_id  avg_watching_count  avg_completion_percentage  \\\n",
       "0      U_8126464           10.759358                   1.174700   \n",
       "1      U_8650752            4.723404                   0.574468   \n",
       "2       U_131074            2.555556                   0.000000   \n",
       "3       U_262145            2.000000                   0.581395   \n",
       "4      U_1441801            3.470588                   0.000000   \n",
       "...          ...                 ...                        ...   \n",
       "48635  U_2621421            6.419355                   0.274194   \n",
       "48636  U_6684659            6.000000                   0.818182   \n",
       "48637  U_8126455            1.358025                   0.777778   \n",
       "48638  U_7995385            4.500000                   0.157895   \n",
       "48639  U_6553596            5.800000                   0.616667   \n",
       "\n",
       "       courses_count  avg_enroll_time  grade  \n",
       "0                  5               21  76.27  \n",
       "1                  5                9  61.35  \n",
       "2                  6               17  69.09  \n",
       "3                  4               15  67.20  \n",
       "4                  5               16  68.02  \n",
       "...              ...              ...    ...  \n",
       "48635              8                7  59.61  \n",
       "48636              4               18  71.51  \n",
       "48637              9               11  63.77  \n",
       "48638              4               22  74.77  \n",
       "48639              4               15  67.97  \n",
       "\n",
       "[48640 rows x 6 columns]"
      ]
     },
     "execution_count": 22,
     "metadata": {},
     "output_type": "execute_result"
    }
   ],
   "source": [
    "#1 Import dataset\n",
    "master_data = pd.read_csv('master_data.csv')\n",
    "master_data.drop('Unnamed: 0', axis=1, inplace=True)\n",
    "master_data"
   ]
  },
  {
   "cell_type": "code",
   "execution_count": 23,
   "id": "53a40d51",
   "metadata": {
    "ExecuteTime": {
     "end_time": "2022-12-05T01:27:03.815521Z",
     "start_time": "2022-12-05T01:27:03.792951Z"
    }
   },
   "outputs": [
    {
     "data": {
      "text/html": [
       "<div>\n",
       "<style scoped>\n",
       "    .dataframe tbody tr th:only-of-type {\n",
       "        vertical-align: middle;\n",
       "    }\n",
       "\n",
       "    .dataframe tbody tr th {\n",
       "        vertical-align: top;\n",
       "    }\n",
       "\n",
       "    .dataframe thead th {\n",
       "        text-align: right;\n",
       "    }\n",
       "</style>\n",
       "<table border=\"1\" class=\"dataframe\">\n",
       "  <thead>\n",
       "    <tr style=\"text-align: right;\">\n",
       "      <th></th>\n",
       "      <th>user_id</th>\n",
       "      <th>avg_watching_count</th>\n",
       "      <th>avg_completion_percentage</th>\n",
       "      <th>courses_count</th>\n",
       "      <th>avg_enroll_time</th>\n",
       "      <th>grade</th>\n",
       "    </tr>\n",
       "  </thead>\n",
       "  <tbody>\n",
       "    <tr>\n",
       "      <th>48639</th>\n",
       "      <td>U_6553596</td>\n",
       "      <td>5.8</td>\n",
       "      <td>0.616667</td>\n",
       "      <td>4</td>\n",
       "      <td>15</td>\n",
       "      <td>67.97</td>\n",
       "    </tr>\n",
       "  </tbody>\n",
       "</table>\n",
       "</div>"
      ],
      "text/plain": [
       "         user_id  avg_watching_count  avg_completion_percentage  \\\n",
       "48639  U_6553596                 5.8                   0.616667   \n",
       "\n",
       "       courses_count  avg_enroll_time  grade  \n",
       "48639              4               15  67.97  "
      ]
     },
     "execution_count": 23,
     "metadata": {},
     "output_type": "execute_result"
    }
   ],
   "source": [
    "test_data = master_data.tail(1)\n",
    "test_data"
   ]
  },
  {
   "cell_type": "code",
   "execution_count": 24,
   "id": "cb8c2d9d",
   "metadata": {
    "ExecuteTime": {
     "end_time": "2022-12-05T01:27:05.794566Z",
     "start_time": "2022-12-05T01:27:05.777554Z"
    }
   },
   "outputs": [
    {
     "data": {
      "text/plain": [
       "(48639, 6)"
      ]
     },
     "execution_count": 24,
     "metadata": {},
     "output_type": "execute_result"
    }
   ],
   "source": [
    "master_data = master_data.head(48640-1)\n",
    "master_data.shape"
   ]
  },
  {
   "cell_type": "code",
   "execution_count": 25,
   "id": "2166f827",
   "metadata": {
    "ExecuteTime": {
     "end_time": "2022-12-05T01:27:07.495614Z",
     "start_time": "2022-12-05T01:27:07.464945Z"
    }
   },
   "outputs": [],
   "source": [
    "#2 Make a list of the independent values (X) and dependent values in a variable (Y).\n",
    "\n",
    "# X = four features\n",
    "# y = grade\n",
    "\n",
    "X = master_data.iloc[:, 1:5].values\n",
    "y = master_data.iloc[:, 5].values"
   ]
  },
  {
   "cell_type": "code",
   "execution_count": 26,
   "id": "8e7fd05c",
   "metadata": {
    "ExecuteTime": {
     "end_time": "2022-12-05T01:27:07.678040Z",
     "start_time": "2022-12-05T01:27:07.634275Z"
    }
   },
   "outputs": [],
   "source": [
    "#3 Splitting the dataset into the Training and Test dataset\n",
    "\n",
    "from sklearn.model_selection import train_test_split\n",
    "X_train, X_test, y_train, y_test = train_test_split(X, y, test_size=0.2, random_state=0)"
   ]
  },
  {
   "cell_type": "code",
   "execution_count": 27,
   "id": "bf0e72e9",
   "metadata": {
    "ExecuteTime": {
     "end_time": "2022-12-05T01:27:07.835971Z",
     "start_time": "2022-12-05T01:27:07.816243Z"
    }
   },
   "outputs": [],
   "source": [
    "#4 Create a multiple Linear Regression object\n",
    "\n",
    "from sklearn.linear_model import LinearRegression\n",
    "multiregr = LinearRegression()"
   ]
  },
  {
   "cell_type": "code",
   "execution_count": 28,
   "id": "b88729fc",
   "metadata": {
    "ExecuteTime": {
     "end_time": "2022-12-05T01:27:07.998847Z",
     "start_time": "2022-12-05T01:27:07.941386Z"
    }
   },
   "outputs": [
    {
     "data": {
      "text/plain": [
       "LinearRegression()"
      ]
     },
     "execution_count": 28,
     "metadata": {},
     "output_type": "execute_result"
    }
   ],
   "source": [
    "#5 Fit the linear regression model to the training set\n",
    "multiregr.fit(X_train, y_train)"
   ]
  },
  {
   "cell_type": "code",
   "execution_count": 29,
   "id": "39518d44",
   "metadata": {
    "ExecuteTime": {
     "end_time": "2022-12-05T01:27:08.092608Z",
     "start_time": "2022-12-05T01:27:08.079947Z"
    }
   },
   "outputs": [
    {
     "data": {
      "text/plain": [
       "array([71.1422986 , 67.82824978, 75.46300876, ..., 66.73879963,\n",
       "       73.49010605, 76.61782951])"
      ]
     },
     "execution_count": 29,
     "metadata": {},
     "output_type": "execute_result"
    }
   ],
   "source": [
    "#6 Predict the Test set results\n",
    "\n",
    "y_pred= multiregr.predict(X_test)\n",
    "y_pred"
   ]
  },
  {
   "cell_type": "code",
   "execution_count": 30,
   "id": "880490e7",
   "metadata": {
    "ExecuteTime": {
     "end_time": "2022-12-05T01:27:09.675998Z",
     "start_time": "2022-12-05T01:27:09.659043Z"
    }
   },
   "outputs": [
    {
     "data": {
      "text/plain": [
       "array([71.14, 67.83, 75.46, ..., 66.74, 73.49, 76.62])"
      ]
     },
     "execution_count": 30,
     "metadata": {},
     "output_type": "execute_result"
    }
   ],
   "source": [
    "y_test"
   ]
  },
  {
   "cell_type": "code",
   "execution_count": 31,
   "id": "05ad59ed",
   "metadata": {
    "ExecuteTime": {
     "end_time": "2022-12-05T01:27:09.922848Z",
     "start_time": "2022-12-05T01:27:09.911578Z"
    }
   },
   "outputs": [
    {
     "name": "stdout",
     "output_type": "stream",
     "text": [
      "Correlation of four features = [0.19077899 1.2150522  0.15923988 1.08695566]\n"
     ]
    }
   ],
   "source": [
    "# correlation of 4 features\n",
    "print(\"Correlation of four features = {}\".format(multiregr.coef_))"
   ]
  },
  {
   "cell_type": "markdown",
   "id": "22c10036",
   "metadata": {},
   "source": [
    "<b>Interpretation of Correlation</b>\n",
    "<li> One more time of watching video: 0.19077984 INCREASE in grade\n",
    "<li> One more percent of completing video: 1.21503062 INCREASE in grade\n",
    "<li> One more registered course: 0.15923719 INCREASE in grade\n",
    "<li> One hour late for enrolling courses: 1.08695541 INCREASE in grade"
   ]
  },
  {
   "cell_type": "markdown",
   "id": "fea7d17c",
   "metadata": {},
   "source": [
    "## Demonstration"
   ]
  },
  {
   "cell_type": "code",
   "execution_count": 33,
   "id": "3d6c7c1e",
   "metadata": {
    "ExecuteTime": {
     "end_time": "2022-12-05T01:27:57.342642Z",
     "start_time": "2022-12-05T01:27:57.314620Z"
    }
   },
   "outputs": [
    {
     "data": {
      "text/html": [
       "<div>\n",
       "<style scoped>\n",
       "    .dataframe tbody tr th:only-of-type {\n",
       "        vertical-align: middle;\n",
       "    }\n",
       "\n",
       "    .dataframe tbody tr th {\n",
       "        vertical-align: top;\n",
       "    }\n",
       "\n",
       "    .dataframe thead th {\n",
       "        text-align: right;\n",
       "    }\n",
       "</style>\n",
       "<table border=\"1\" class=\"dataframe\">\n",
       "  <thead>\n",
       "    <tr style=\"text-align: right;\">\n",
       "      <th></th>\n",
       "      <th>user_id</th>\n",
       "      <th>avg_watching_count</th>\n",
       "      <th>avg_completion_percentage</th>\n",
       "      <th>courses_count</th>\n",
       "      <th>avg_enroll_time</th>\n",
       "      <th>grade</th>\n",
       "    </tr>\n",
       "  </thead>\n",
       "  <tbody>\n",
       "    <tr>\n",
       "      <th>48639</th>\n",
       "      <td>U_6553596</td>\n",
       "      <td>5.8</td>\n",
       "      <td>0.616667</td>\n",
       "      <td>4</td>\n",
       "      <td>15</td>\n",
       "      <td>67.97</td>\n",
       "    </tr>\n",
       "  </tbody>\n",
       "</table>\n",
       "</div>"
      ],
      "text/plain": [
       "         user_id  avg_watching_count  avg_completion_percentage  \\\n",
       "48639  U_6553596                 5.8                   0.616667   \n",
       "\n",
       "       courses_count  avg_enroll_time  grade  \n",
       "48639              4               15  67.97  "
      ]
     },
     "execution_count": 33,
     "metadata": {},
     "output_type": "execute_result"
    }
   ],
   "source": [
    "test_data"
   ]
  },
  {
   "cell_type": "code",
   "execution_count": 32,
   "id": "583c148c",
   "metadata": {
    "ExecuteTime": {
     "end_time": "2022-12-05T01:27:48.503947Z",
     "start_time": "2022-12-05T01:27:48.460251Z"
    }
   },
   "outputs": [
    {
     "data": {
      "text/plain": [
       "array([64.49384974])"
      ]
     },
     "execution_count": 32,
     "metadata": {},
     "output_type": "execute_result"
    }
   ],
   "source": [
    "# predict student's grade whose\n",
    "    # average watching count = 20\n",
    "    # average completion percentage = 0.5 (50%)\n",
    "    # registered courses = 2\n",
    "    # average enroll time = 23 (11pm)\n",
    "\n",
    "predictedGrade = multiregr.predict([[5.8, 0.617, 4, 15]])\n",
    "predictedGrade"
   ]
  },
  {
   "cell_type": "markdown",
   "id": "5a8dfbd6",
   "metadata": {},
   "source": [
    "The actual grade is 67.97, and the result of multi-regression model is 64.49."
   ]
  },
  {
   "cell_type": "markdown",
   "id": "88bac5ca",
   "metadata": {
    "ExecuteTime": {
     "end_time": "2022-12-05T01:35:26.748758Z",
     "start_time": "2022-12-05T01:35:26.726022Z"
    }
   },
   "source": [
    "## Check Accuracy"
   ]
  },
  {
   "cell_type": "code",
   "execution_count": 43,
   "id": "a5afc761",
   "metadata": {
    "ExecuteTime": {
     "end_time": "2022-12-05T01:35:33.528139Z",
     "start_time": "2022-12-05T01:35:33.514522Z"
    }
   },
   "outputs": [],
   "source": [
    "from sklearn.linear_model import LinearRegression"
   ]
  },
  {
   "cell_type": "code",
   "execution_count": 45,
   "id": "1712fdb4",
   "metadata": {
    "ExecuteTime": {
     "end_time": "2022-12-05T01:36:15.928247Z",
     "start_time": "2022-12-05T01:36:15.910640Z"
    }
   },
   "outputs": [
    {
     "name": "stdout",
     "output_type": "stream",
     "text": [
      "99.99998105923528 %\n"
     ]
    }
   ],
   "source": [
    "r2_score = multiregr.score(X_test, y_test)\n",
    "print(r2_score*100,'%')"
   ]
  }
 ],
 "metadata": {
  "kernelspec": {
   "display_name": "Python 3",
   "language": "python",
   "name": "python3"
  },
  "language_info": {
   "codemirror_mode": {
    "name": "ipython",
    "version": 3
   },
   "file_extension": ".py",
   "mimetype": "text/x-python",
   "name": "python",
   "nbconvert_exporter": "python",
   "pygments_lexer": "ipython3",
   "version": "3.8.8"
  }
 },
 "nbformat": 4,
 "nbformat_minor": 5
}
