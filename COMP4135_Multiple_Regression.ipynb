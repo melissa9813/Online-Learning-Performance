{
 "cells": [
  {
   "cell_type": "markdown",
   "id": "8b96d431",
   "metadata": {},
   "source": [
    "# ReadMe\n",
    "1. Data Preparation\n",
    "- Import 'master_data.csv' which has been prepared in 'COMP4135_Data_Preparation.ipynb'\n",
    "\n",
    "2. Multiple Regression\n",
    "- Use four independent variables at once to predict a dependent variable <br>\n",
    "\n",
    "3. Independent Variable\n",
    "- Average Watching Count \n",
    "- Video Completion Percentage \n",
    "- Enrolled Course Count \n",
    "- Average Enroll Time\n",
    "\n",
    "4. Dependent Variable\n",
    "- Grade"
   ]
  },
  {
   "cell_type": "markdown",
   "id": "c34ef9a1",
   "metadata": {},
   "source": [
    "## Multiple Regression "
   ]
  },
  {
   "cell_type": "code",
   "execution_count": 1,
   "id": "1fd5775d",
   "metadata": {
    "ExecuteTime": {
     "end_time": "2022-04-19T17:14:52.133282Z",
     "start_time": "2022-04-19T17:14:51.438938Z"
    }
   },
   "outputs": [],
   "source": [
    "import numpy as np \n",
    "import pandas as pd\n",
    "import matplotlib.pyplot as plt"
   ]
  },
  {
   "cell_type": "code",
   "execution_count": 2,
   "id": "5079d538",
   "metadata": {
    "ExecuteTime": {
     "end_time": "2022-04-19T17:14:52.210466Z",
     "start_time": "2022-04-19T17:14:52.135165Z"
    }
   },
   "outputs": [],
   "source": [
    "#1 Import dataset\n",
    "master_data = pd.read_csv('master_data.csv')"
   ]
  },
  {
   "cell_type": "code",
   "execution_count": 3,
   "id": "2166f827",
   "metadata": {
    "ExecuteTime": {
     "end_time": "2022-04-19T17:14:52.226232Z",
     "start_time": "2022-04-19T17:14:52.212001Z"
    }
   },
   "outputs": [],
   "source": [
    "#2 Make a list of the independent values (X) and dependent values in a variable (Y).\n",
    "\n",
    "# X = four features\n",
    "# y = grade\n",
    "\n",
    "X = master_data.iloc[:, 2:6].values\n",
    "y = master_data.iloc[:, 6].values"
   ]
  },
  {
   "cell_type": "code",
   "execution_count": 4,
   "id": "8e7fd05c",
   "metadata": {
    "ExecuteTime": {
     "end_time": "2022-04-19T17:14:52.783007Z",
     "start_time": "2022-04-19T17:14:52.227731Z"
    }
   },
   "outputs": [],
   "source": [
    "#3 Splitting the dataset into the Training and Test dataset\n",
    "\n",
    "from sklearn.model_selection import train_test_split\n",
    "X_train, X_test, y_train, y_test = train_test_split(X, y, test_size=0.2, random_state=0)"
   ]
  },
  {
   "cell_type": "code",
   "execution_count": 5,
   "id": "bf0e72e9",
   "metadata": {
    "ExecuteTime": {
     "end_time": "2022-04-19T17:14:52.829394Z",
     "start_time": "2022-04-19T17:14:52.784387Z"
    }
   },
   "outputs": [],
   "source": [
    "#4 Create a multiple Linear Regression object\n",
    "\n",
    "from sklearn.linear_model import LinearRegression\n",
    "multiregr = LinearRegression()"
   ]
  },
  {
   "cell_type": "code",
   "execution_count": 6,
   "id": "b88729fc",
   "metadata": {
    "ExecuteTime": {
     "end_time": "2022-04-19T17:14:52.875039Z",
     "start_time": "2022-04-19T17:14:52.830687Z"
    }
   },
   "outputs": [
    {
     "data": {
      "text/plain": [
       "LinearRegression()"
      ]
     },
     "execution_count": 6,
     "metadata": {},
     "output_type": "execute_result"
    }
   ],
   "source": [
    "#5 Fit the linear regression model to the training set\n",
    "multiregr.fit(X_train, y_train)"
   ]
  },
  {
   "cell_type": "code",
   "execution_count": 7,
   "id": "39518d44",
   "metadata": {
    "ExecuteTime": {
     "end_time": "2022-04-19T17:14:52.890212Z",
     "start_time": "2022-04-19T17:14:52.877359Z"
    }
   },
   "outputs": [
    {
     "data": {
      "text/plain": [
       "array([49.33547507, 49.4865026 , 49.50921054, ..., 49.30723742,\n",
       "       49.59492726, 48.88469507])"
      ]
     },
     "execution_count": 7,
     "metadata": {},
     "output_type": "execute_result"
    }
   ],
   "source": [
    "#6 Predict the Test set results\n",
    "\n",
    "y_pred= multiregr.predict(X_test)\n",
    "y_pred"
   ]
  },
  {
   "cell_type": "code",
   "execution_count": 8,
   "id": "880490e7",
   "metadata": {
    "ExecuteTime": {
     "end_time": "2022-04-19T17:14:52.906142Z",
     "start_time": "2022-04-19T17:14:52.892053Z"
    }
   },
   "outputs": [
    {
     "data": {
      "text/plain": [
       "array([89, 20, 37, ..., 86, 88, 95], dtype=int64)"
      ]
     },
     "execution_count": 8,
     "metadata": {},
     "output_type": "execute_result"
    }
   ],
   "source": [
    "y_test"
   ]
  },
  {
   "cell_type": "code",
   "execution_count": 9,
   "id": "05ad59ed",
   "metadata": {
    "ExecuteTime": {
     "end_time": "2022-04-19T17:14:52.921695Z",
     "start_time": "2022-04-19T17:14:52.907734Z"
    }
   },
   "outputs": [
    {
     "name": "stdout",
     "output_type": "stream",
     "text": [
      "Correlation of four features = [-0.04752545 -0.39964997 -0.02335711 -0.01576584]\n"
     ]
    }
   ],
   "source": [
    "# correlation of 4 features\n",
    "print(\"Correlation of four features = {}\".format(multiregr.coef_))"
   ]
  },
  {
   "cell_type": "markdown",
   "id": "22c10036",
   "metadata": {},
   "source": [
    "<b>Interpretation of Correlation</b>\n",
    "<li> One more time of watching video: 0.04752545 DECREASE in grade\n",
    "<li> One more percent of completing video: 0.39964997 DECREASE in grade\n",
    "<li> One more registered course: 0.02335711 DECREASE in grade\n",
    "<li> One hour late for enrolling courses: 0.01576584 DECREASE in grade"
   ]
  },
  {
   "cell_type": "markdown",
   "id": "fea7d17c",
   "metadata": {},
   "source": [
    "## Demonstration"
   ]
  },
  {
   "cell_type": "code",
   "execution_count": 10,
   "id": "583c148c",
   "metadata": {
    "ExecuteTime": {
     "end_time": "2022-04-19T17:14:52.937187Z",
     "start_time": "2022-04-19T17:14:52.923303Z"
    }
   },
   "outputs": [
    {
     "data": {
      "text/plain": [
       "array([49.31079523])"
      ]
     },
     "execution_count": 10,
     "metadata": {},
     "output_type": "execute_result"
    }
   ],
   "source": [
    "# predict student's grade whose\n",
    "    # average watching count = 20\n",
    "    # average completion percentage = 0.5 (50%)\n",
    "    # registered courses = 2\n",
    "    # average enroll time = 23 (11pm)\n",
    "\n",
    "predictedGrade = multiregr.predict([[7.44, 0.946, 5, 11]])\n",
    "predictedGrade"
   ]
  }
 ],
 "metadata": {
  "kernelspec": {
   "display_name": "Python 3",
   "language": "python",
   "name": "python3"
  },
  "language_info": {
   "codemirror_mode": {
    "name": "ipython",
    "version": 3
   },
   "file_extension": ".py",
   "mimetype": "text/x-python",
   "name": "python",
   "nbconvert_exporter": "python",
   "pygments_lexer": "ipython3",
   "version": "3.8.8"
  }
 },
 "nbformat": 4,
 "nbformat_minor": 5
}
